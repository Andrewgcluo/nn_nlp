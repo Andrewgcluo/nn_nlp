{
 "cells": [
  {
   "cell_type": "markdown",
   "metadata": {},
   "source": [
    "## 0. 简介\n",
    "\n",
    "本 note 中主要实现神经网络中常见的函数，所有函数的实现均考虑向量计算，包括：\n",
    "\n",
    "1. `sigmoid(x)`\n",
    "2. `relu(x)`\n",
    "3. `softmax(x)`\n",
    "4. `cross_entropy_entry(y, t)` `y`是预测标签，`t`是实际数据中标签"
   ]
  },
  {
   "cell_type": "markdown",
   "metadata": {},
   "source": [
    "## 1. sigmoid\n",
    "\n",
    "实现如下："
   ]
  },
  {
   "cell_type": "code",
   "execution_count": null,
   "metadata": {},
   "outputs": [],
   "source": [
    "def sigmoid(x):\n",
    "    '''\n",
    "    Parameters\n",
    "    ----------\n",
    "    x : 输入张量\n",
    "    \n",
    "    Return\n",
    "    ------\n",
    "    u\n",
    "    '''"
   ]
  }
 ],
 "metadata": {
  "kernelspec": {
   "display_name": "Python [conda env:keras] *",
   "language": "python",
   "name": "conda-env-keras-py"
  },
  "language_info": {
   "codemirror_mode": {
    "name": "ipython",
    "version": 3
   },
   "file_extension": ".py",
   "mimetype": "text/x-python",
   "name": "python",
   "nbconvert_exporter": "python",
   "pygments_lexer": "ipython3",
   "version": "3.7.6"
  }
 },
 "nbformat": 4,
 "nbformat_minor": 4
}
