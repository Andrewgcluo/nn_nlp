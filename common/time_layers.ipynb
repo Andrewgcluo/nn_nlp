{
 "cells": [
  {
   "cell_type": "markdown",
   "metadata": {},
   "source": [
    "## 0 Intro\n",
    "\n",
    "本 note 聚焦于实现处理序列数据相关的神经网络功能层，具体包括：\n",
    "\n",
    "- RNN - 处理单个数据的 RNN\n",
    "- TimeRNN - 处理序列数据的 RNN\n",
    "- LSTM - 处理单个数据的 LSTM\n",
    "- TimeLSTM - 处理序列数据的 LSTM\n",
    "- TimeAffine - 处理序列数据的 Affine\n",
    "- TimeSoftmaxWithLoss - 处理序列数据的 SoftmaxWithLoss\n",
    "- TimeDropout - 处理序列数据的 Dropout\n",
    "- TimeBiLSTM - 处理序列数据的 BiLSTM\n",
    "\n",
    "以上的 *Timexxx* 可以理解为在时间维度上展开的 *xxx*"
   ]
  },
  {
   "cell_type": "markdown",
   "metadata": {},
   "source": [
    "## 01 RNN\n",
    "\n",
    "RNN 层相比前馈神经网络中诸如 Affine 层，多了一个记忆上个隐状态的功能，因此可以处理序列数据，其计算图如下：\n",
    "\n",
    "\n",
    "对比计算图，可以方便地实现 RNN 层的前向计算和后向计算"
   ]
  }
 ],
 "metadata": {
  "kernelspec": {
   "display_name": "Python [conda env:keras] *",
   "language": "python",
   "name": "conda-env-keras-py"
  },
  "language_info": {
   "codemirror_mode": {
    "name": "ipython",
    "version": 3
   },
   "file_extension": ".py",
   "mimetype": "text/x-python",
   "name": "python",
   "nbconvert_exporter": "python",
   "pygments_lexer": "ipython3",
   "version": "3.7.6"
  }
 },
 "nbformat": 4,
 "nbformat_minor": 4
}
