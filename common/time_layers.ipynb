{
 "cells": [
  {
   "cell_type": "markdown",
   "metadata": {},
   "source": [
    "## 0 Intro\n",
    "\n",
    "本 note 聚焦于实现处理序列数据相关的神经网络功能层，具体包括：\n",
    "\n",
    "- RNN - 处理单个数据的 RNN\n",
    "- TimeRNN - 处理序列数据的 RNN\n",
    "- LSTM - 处理单个数据的 LSTM\n",
    "- TimeLSTM - 处理序列数据的 LSTM\n",
    "- TimeAffine - 处理序列数据的 Affine\n",
    "- TimeSoftmaxWithLoss - 处理序列数据的 SoftmaxWithLoss\n",
    "- TimeDropout - 处理序列数据的 Dropout\n",
    "- TimeBiLSTM - 处理序列数据的 BiLSTM\n",
    "\n",
    "以上的 *Timexxx* 可以理解为在时间维度上展开的 *xxx*"
   ]
  },
  {
   "cell_type": "markdown",
   "metadata": {},
   "source": [
    "## 01 RNN\n",
    "\n",
    "RNN 层相比前馈神经网络中诸如 Affine 层，多了一个记忆上个隐状态的功能，因此可以处理序列数据，其计算图如下：\n",
    "\n",
    "\n",
    "\n",
    "对比计算图，可以方便地实现 RNN 层的前向计算和后向计算\n",
    "\n",
    "实现如下：\n",
    "\n",
    "**成员变量**\n",
    "\n",
    "- 参数 - `Wx`：输入数据对应的权重矩阵；`Wh`：上一次隐状态对应的权重矩阵；`b` 偏置向量\n",
    "- 中间变量 - `x`：输入数据；`h_prev`：上一次隐状态；`h_next`：本次计算的隐状态\n",
    "- 梯度 - `dWx` `dWh` `db` 以及返回前一层的导数 `dx`\n",
    "\n",
    "**成员函数**\n",
    "\n",
    "- `__init__(self, Wx, Wh, b)`\n",
    "- `forward(self, x, h_prev)`\n",
    "- `backward(self, dh_next)`\n",
    "\n",
    "代码如下："
   ]
  },
  {
   "cell_type": "code",
   "execution_count": null,
   "metadata": {},
   "outputs": [],
   "source": [
    "class RNN:\n",
    "    def __init__(self, Wx, Wh, b):\n",
    "        '''三个参数均从外界传入，凸显了参数的初始化的重要性\n",
    "        '''\n",
    "        self.params = [Wx, Wh, b]\n",
    "        self.grads = [np.zeros_like(Wx), np.zeros_like(Wh), np.zeros_like(b)]\n",
    "        self.cache = None  # 用于打包存储必须的中间结果\n",
    "        \n",
    "    def forward(self, x, h_prev):\n",
    "        '''前向计算，RNN 需要上一个隐状态完成前向计算\n",
    "        '''\n",
    "        Wx, Wh, b = self.params\n",
    "        t = np.dot(x, Wx) + np.dot(h_prev, Wh) + b\n",
    "        h_next = np.tanh(t)\n",
    "        \n",
    "        self.cache = (x, h_prev, h_next)  # 用元祖打包，避免无意修改\n",
    "        return h_next"
   ]
  }
 ],
 "metadata": {
  "kernelspec": {
   "display_name": "Python [conda env:keras] *",
   "language": "python",
   "name": "conda-env-keras-py"
  },
  "language_info": {
   "codemirror_mode": {
    "name": "ipython",
    "version": 3
   },
   "file_extension": ".py",
   "mimetype": "text/x-python",
   "name": "python",
   "nbconvert_exporter": "python",
   "pygments_lexer": "ipython3",
   "version": "3.7.6"
  }
 },
 "nbformat": 4,
 "nbformat_minor": 4
}
