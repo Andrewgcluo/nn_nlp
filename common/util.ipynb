{
 "cells": [
  {
   "cell_type": "markdown",
   "metadata": {},
   "source": [
    "## 0. 简介\n",
    "\n",
    "本 Note 记录使用 Neural Networks (以下简称NN）做自然语言处理时所用的工具函数，包括：\n",
    "\n",
    "1. `naive_preprocess(text)` 将输入文本字符串转换为单词 ID 的 Numpy 数组，并返回对应的单词-ID 字典和 ID-单词字典"
   ]
  },
  {
   "cell_type": "markdown",
   "metadata": {},
   "source": [
    "## 1. naive_preprocess()\n",
    "\n",
    "输入参数为文本序列，输出为文本的单词序列"
   ]
  },
  {
   "cell_type": "code",
   "execution_count": null,
   "metadata": {},
   "outputs": [],
   "source": [
    "def naive_preprocess(text):\n",
    "    '''基于输入文本构建语料库，附带构建单词-ID 和 ID-单词两份字典，仅处理以 . 结尾的句子文本\n",
    "    \n",
    "    :params text: 待处理的文本字符串\n",
    "    \n",
    "    :return corpus: 单词 ID 组成的 Numpy 数组\n",
    "    :return word_to_id: key 是单词，value 是对应的 ID 的字典\n",
    "    :return id_to_word: key 是 ID，value 是对应的单词的字典\n",
    "    '''\n",
    "    \n",
    "    text = text.lower()\n",
    "    text = text.replace('.', ' .') # 在文本末尾的句号前添加空格\n",
    "    words = text.split(' ') # 以空格为定界符将输入文本拆分为单词\n",
    "    \n",
    "    word_to_id = {}\n",
    "    id_to_word = {}\n",
    "    \n",
    "    for word in words:\n",
    "        if word not in word_to_id:\n",
    "            new_id = len(word_to_id)\n",
    "            word_to_id[word] = new_id\n",
    "            id_to_word[new_id] = word\n",
    "    \n",
    "    corpus = np.array([word_to_id[w] for w in words])  # 依 word_to_id 构建 corpus\n",
    "        \n",
    "    return corpus, word_to_id, id_to_word"
   ]
  }
 ],
 "metadata": {
  "kernelspec": {
   "display_name": "Python [conda env:keras] *",
   "language": "python",
   "name": "conda-env-keras-py"
  },
  "language_info": {
   "codemirror_mode": {
    "name": "ipython",
    "version": 3
   },
   "file_extension": ".py",
   "mimetype": "text/x-python",
   "name": "python",
   "nbconvert_exporter": "python",
   "pygments_lexer": "ipython3",
   "version": "3.7.6"
  }
 },
 "nbformat": 4,
 "nbformat_minor": 4
}
